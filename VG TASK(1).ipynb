{
  "nbformat": 4,
  "nbformat_minor": 0,
  "metadata": {
    "colab": {
      "provenance": []
    },
    "kernelspec": {
      "name": "python3",
      "display_name": "Python 3"
    },
    "language_info": {
      "name": "python"
    }
  },
  "cells": [
    {
      "cell_type": "code",
      "source": [
        "import pandas as pd\n",
        "\n",
        "df = pd.read_csv(\"KaggleV2-May-2016.csv\")\n",
        "\n",
        "print(\"Original columns:\\n\", df.columns)\n",
        "\n",
        "\n",
        "df.columns = df.columns.str.strip().str.lower().str.replace('-', '_').str.replace(' ', '_')\n",
        "\n",
        "print(\"\\nMissing values:\\n\", df.isnull().sum())\n",
        "\n",
        "df = df.drop_duplicates()\n",
        "\n",
        "df['gender'] = df['gender'].str.upper().map({'M': 'Male', 'F': 'Female'})\n",
        "\n",
        "\n",
        "df['scheduledday'] = pd.to_datetime(df['scheduledday'])\n",
        "df['appointmentday'] = pd.to_datetime(df['appointmentday'])\n",
        "\n",
        "df = df[df['age'] >= 0]\n",
        "df['age'] = df['age'].astype(int)\n",
        "\n",
        "df['no_show'] = df['no_show'].str.strip().str.upper().map({'NO': 'No', 'YES': 'Yes'})\n",
        "\n",
        "print(\"\\nFinal column info:\")\n",
        "print(df.info())\n",
        "print(\"\\nUnique values in 'no_show':\", df['no_show'].unique())\n",
        "\n",
        "\n",
        "df.to_csv(\"cleaned_medical_appointments.csv\", index=False)\n"
      ],
      "metadata": {
        "colab": {
          "base_uri": "https://localhost:8080/"
        },
        "id": "JtvIoR6lyDCV",
        "outputId": "1d7d8532-c4fe-4233-c70c-032226af02be"
      },
      "execution_count": 4,
      "outputs": [
        {
          "output_type": "stream",
          "name": "stdout",
          "text": [
            "Original columns:\n",
            " Index(['PatientId', 'AppointmentID', 'Gender', 'ScheduledDay',\n",
            "       'AppointmentDay', 'Age', 'Neighbourhood', 'Scholarship', 'Hipertension',\n",
            "       'Diabetes', 'Alcoholism', 'Handcap', 'SMS_received', 'No-show'],\n",
            "      dtype='object')\n",
            "\n",
            "Missing values:\n",
            " patientid         0\n",
            "appointmentid     0\n",
            "gender            0\n",
            "scheduledday      0\n",
            "appointmentday    0\n",
            "age               0\n",
            "neighbourhood     0\n",
            "scholarship       0\n",
            "hipertension      0\n",
            "diabetes          0\n",
            "alcoholism        0\n",
            "handcap           0\n",
            "sms_received      0\n",
            "no_show           0\n",
            "dtype: int64\n"
          ]
        },
        {
          "output_type": "stream",
          "name": "stderr",
          "text": [
            "<ipython-input-4-9dbb75e311ce>:27: SettingWithCopyWarning: \n",
            "A value is trying to be set on a copy of a slice from a DataFrame.\n",
            "Try using .loc[row_indexer,col_indexer] = value instead\n",
            "\n",
            "See the caveats in the documentation: https://pandas.pydata.org/pandas-docs/stable/user_guide/indexing.html#returning-a-view-versus-a-copy\n",
            "  df['age'] = df['age'].astype(int)\n"
          ]
        },
        {
          "output_type": "stream",
          "name": "stdout",
          "text": [
            "\n",
            "Final column info:\n",
            "<class 'pandas.core.frame.DataFrame'>\n",
            "Index: 110526 entries, 0 to 110526\n",
            "Data columns (total 14 columns):\n",
            " #   Column          Non-Null Count   Dtype              \n",
            "---  ------          --------------   -----              \n",
            " 0   patientid       110526 non-null  float64            \n",
            " 1   appointmentid   110526 non-null  int64              \n",
            " 2   gender          110526 non-null  object             \n",
            " 3   scheduledday    110526 non-null  datetime64[ns, UTC]\n",
            " 4   appointmentday  110526 non-null  datetime64[ns, UTC]\n",
            " 5   age             110526 non-null  int64              \n",
            " 6   neighbourhood   110526 non-null  object             \n",
            " 7   scholarship     110526 non-null  int64              \n",
            " 8   hipertension    110526 non-null  int64              \n",
            " 9   diabetes        110526 non-null  int64              \n",
            " 10  alcoholism      110526 non-null  int64              \n",
            " 11  handcap         110526 non-null  int64              \n",
            " 12  sms_received    110526 non-null  int64              \n",
            " 13  no_show         110526 non-null  object             \n",
            "dtypes: datetime64[ns, UTC](2), float64(1), int64(8), object(3)\n",
            "memory usage: 12.6+ MB\n",
            "None\n",
            "\n",
            "Unique values in 'no_show': ['No' 'Yes']\n"
          ]
        }
      ]
    }
  ]
}